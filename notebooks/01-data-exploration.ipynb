{
 "cells": [
  {
   "cell_type": "code",
   "execution_count": 1,
   "id": "d2187ce2-9ac4-42c8-835c-e27bead67084",
   "metadata": {},
   "outputs": [],
   "source": [
    "import sys\n",
    "import os\n",
    "\n",
    "project_root = os.path.abspath(os.path.join(os.getcwd(), \"..\"))\n",
    "if project_root not in sys.path:\n",
    "    sys.path.append(project_root)"
   ]
  },
  {
   "cell_type": "code",
   "execution_count": 2,
   "id": "21fd80f0-92ef-4749-b384-aa2a5285d136",
   "metadata": {},
   "outputs": [],
   "source": [
    "from src.data_prep import *"
   ]
  },
  {
   "cell_type": "code",
   "execution_count": 3,
   "id": "2ca781dd-b4f8-4a90-b2ce-9b9421743eee",
   "metadata": {},
   "outputs": [
    {
     "name": "stdout",
     "output_type": "stream",
     "text": [
      "Path to dataset files:  /Users/dmendez/.cache/kagglehub/datasets/clmentbisaillon/fake-and-real-news-dataset/versions/1\n"
     ]
    }
   ],
   "source": [
    "df = download_data()"
   ]
  },
  {
   "cell_type": "code",
   "execution_count": 4,
   "id": "389e6654-43a4-4bd3-89b3-b0d4137030e2",
   "metadata": {},
   "outputs": [
    {
     "name": "stdout",
     "output_type": "stream",
     "text": [
      "Custom subject preprocessing\n",
      "unique subjects:  ['politics' 'world' 'news' 'government' 'left' 'usa' 'middle-east']\n",
      "df dtypes:  title      object\n",
      "text       object\n",
      "subject    object\n",
      "date       object\n",
      "label       int64\n",
      "dtype: object\n"
     ]
    }
   ],
   "source": [
    "df = preprocess_subject(df)"
   ]
  }
 ],
 "metadata": {
  "kernelspec": {
   "display_name": "Python 3 (ipykernel)",
   "language": "python",
   "name": "python3"
  },
  "language_info": {
   "codemirror_mode": {
    "name": "ipython",
    "version": 3
   },
   "file_extension": ".py",
   "mimetype": "text/x-python",
   "name": "python",
   "nbconvert_exporter": "python",
   "pygments_lexer": "ipython3",
   "version": "3.10.17"
  }
 },
 "nbformat": 4,
 "nbformat_minor": 5
}
